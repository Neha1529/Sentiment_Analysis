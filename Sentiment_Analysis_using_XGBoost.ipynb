{
  "nbformat": 4,
  "nbformat_minor": 0,
  "metadata": {
    "colab": {
      "name": "Sentiment Analysis using XGBoost.ipynb",
      "provenance": []
    },
    "kernelspec": {
      "name": "python3",
      "display_name": "Python 3"
    }
  },
  "cells": [
    {
      "cell_type": "code",
      "metadata": {
        "id": "JgpN7QxxIw3l"
      },
      "source": [
        "from os import chdir\n",
        "from nltk.corpus import stopwords\n",
        "from nltk.stem import WordNetLemmatizer\n",
        "import nltk\n",
        "import re\n",
        "import pandas as pd\n",
        "import matplotlib.pyplot as plt\n",
        "from collections import Counter\n",
        "from sklearn.feature_extraction.text import CountVectorizer\n",
        "from sklearn.feature_extraction.text import TfidfVectorizer\n",
        "from sklearn.linear_model import LogisticRegression\n",
        "from sklearn.tree import DecisionTreeClassifier\n",
        "from sklearn.metrics import accuracy_score, f1_score, recall_score, precision_score, confusion_matrix\n",
        "import xgboost as xgb\n",
        "import numpy as np\n",
        "import seaborn as sns"
      ],
      "execution_count": 1,
      "outputs": []
    },
    {
      "cell_type": "code",
      "metadata": {
        "id": "lxeucCxiI8_L"
      },
      "source": [
        "train = pd.read_csv('/content/drive/My Drive/drug review datasets/drugsComTest_raw.csv')\n",
        "train_drugs = train.loc[:, 'drugName']\n",
        "train = train.loc[:, ['review', 'rating', 'usefulCount']]\n",
        "train = train.iloc[[x[0] or x[1] for x in list(zip((train['rating'] <= 4), (train['rating'] >= 7)))], :]"
      ],
      "execution_count": 2,
      "outputs": []
    },
    {
      "cell_type": "code",
      "metadata": {
        "id": "SvwqaYGiJszJ",
        "outputId": "609fa02f-de35-42cd-abea-b607be6159b0",
        "colab": {
          "base_uri": "https://localhost:8080/"
        }
      },
      "source": [
        "train.shape"
      ],
      "execution_count": 3,
      "outputs": [
        {
          "output_type": "execute_result",
          "data": {
            "text/plain": [
              "(48937, 3)"
            ]
          },
          "metadata": {
            "tags": []
          },
          "execution_count": 3
        }
      ]
    },
    {
      "cell_type": "code",
      "metadata": {
        "id": "P_1_Qkl2DMSQ",
        "outputId": "1440379d-ac32-4d90-a41f-60f19542ae1f",
        "colab": {
          "base_uri": "https://localhost:8080/",
          "height": 195
        }
      },
      "source": [
        "train.head()"
      ],
      "execution_count": 4,
      "outputs": [
        {
          "output_type": "execute_result",
          "data": {
            "text/html": [
              "<div>\n",
              "<style scoped>\n",
              "    .dataframe tbody tr th:only-of-type {\n",
              "        vertical-align: middle;\n",
              "    }\n",
              "\n",
              "    .dataframe tbody tr th {\n",
              "        vertical-align: top;\n",
              "    }\n",
              "\n",
              "    .dataframe thead th {\n",
              "        text-align: right;\n",
              "    }\n",
              "</style>\n",
              "<table border=\"1\" class=\"dataframe\">\n",
              "  <thead>\n",
              "    <tr style=\"text-align: right;\">\n",
              "      <th></th>\n",
              "      <th>review</th>\n",
              "      <th>rating</th>\n",
              "      <th>usefulCount</th>\n",
              "    </tr>\n",
              "  </thead>\n",
              "  <tbody>\n",
              "    <tr>\n",
              "      <th>0</th>\n",
              "      <td>\"I&amp;#039;ve tried a few antidepressants over th...</td>\n",
              "      <td>10</td>\n",
              "      <td>22</td>\n",
              "    </tr>\n",
              "    <tr>\n",
              "      <th>1</th>\n",
              "      <td>\"My son has Crohn&amp;#039;s disease and has done ...</td>\n",
              "      <td>8</td>\n",
              "      <td>17</td>\n",
              "    </tr>\n",
              "    <tr>\n",
              "      <th>2</th>\n",
              "      <td>\"Quick reduction of symptoms\"</td>\n",
              "      <td>9</td>\n",
              "      <td>3</td>\n",
              "    </tr>\n",
              "    <tr>\n",
              "      <th>3</th>\n",
              "      <td>\"Contrave combines drugs that were used for al...</td>\n",
              "      <td>9</td>\n",
              "      <td>35</td>\n",
              "    </tr>\n",
              "    <tr>\n",
              "      <th>4</th>\n",
              "      <td>\"I have been on this birth control for one cyc...</td>\n",
              "      <td>9</td>\n",
              "      <td>4</td>\n",
              "    </tr>\n",
              "  </tbody>\n",
              "</table>\n",
              "</div>"
            ],
            "text/plain": [
              "                                              review  rating  usefulCount\n",
              "0  \"I&#039;ve tried a few antidepressants over th...      10           22\n",
              "1  \"My son has Crohn&#039;s disease and has done ...       8           17\n",
              "2                      \"Quick reduction of symptoms\"       9            3\n",
              "3  \"Contrave combines drugs that were used for al...       9           35\n",
              "4  \"I have been on this birth control for one cyc...       9            4"
            ]
          },
          "metadata": {
            "tags": []
          },
          "execution_count": 4
        }
      ]
    },
    {
      "cell_type": "code",
      "metadata": {
        "id": "2OIfORW2Jurd"
      },
      "source": [
        "## test set\n",
        "test = pd.read_csv('/content/drive/My Drive/drug review datasets/drugsComTrain_raw.csv')\n",
        "test = test.loc[:, ['review', 'rating', 'usefulCount']]\n",
        "test = test.iloc[[x[0] or x[1] for x in list(zip((test['rating'] <= 4), (test['rating'] >= 7)))], :]"
      ],
      "execution_count": 5,
      "outputs": []
    },
    {
      "cell_type": "code",
      "metadata": {
        "id": "SEPP6AtnKIus",
        "outputId": "37e57b63-aa1d-45ed-90f4-413e8f78c0e3",
        "colab": {
          "base_uri": "https://localhost:8080/"
        }
      },
      "source": [
        "# Pre Processing\n",
        "nltk.download('stopwords')\n",
        "nltk.download('wordnet')\n",
        "stop_words = stopwords.words('english')\n",
        "wnl = WordNetLemmatizer()"
      ],
      "execution_count": 6,
      "outputs": [
        {
          "output_type": "stream",
          "text": [
            "[nltk_data] Downloading package stopwords to /root/nltk_data...\n",
            "[nltk_data]   Package stopwords is already up-to-date!\n",
            "[nltk_data] Downloading package wordnet to /root/nltk_data...\n",
            "[nltk_data]   Package wordnet is already up-to-date!\n"
          ],
          "name": "stdout"
        }
      ]
    },
    {
      "cell_type": "code",
      "metadata": {
        "id": "ccE0c0m6Kk4j"
      },
      "source": [
        "def preprocess(text_column):\n",
        "       # Remove link,user and special characters\n",
        "       # And Lemmatize the words\n",
        "       new_review = []\n",
        "       for review in text_column:\n",
        "              # this text is a list of tokens for the review\n",
        "              text = re.sub(\"@\\S+|https?:\\S+|http?:\\S|[^A-Za-z0-9]+\", ' ', str(review).lower()).strip()\n",
        "              text = [wnl.lemmatize(i) for i in text.split(' ') if i not in stop_words]\n",
        "              new_review.append(' '.join(text))\n",
        "       return new_review"
      ],
      "execution_count": 7,
      "outputs": []
    },
    {
      "cell_type": "code",
      "metadata": {
        "id": "YvyLpTuDKoT_"
      },
      "source": [
        "train['review'] = preprocess(train['review'])\n",
        "test['review'] = preprocess(test['review'])"
      ],
      "execution_count": 8,
      "outputs": []
    },
    {
      "cell_type": "code",
      "metadata": {
        "id": "nfAyKxwDEjql",
        "outputId": "b303e372-9dae-42f6-fb74-b7d6841f126b",
        "colab": {
          "base_uri": "https://localhost:8080/",
          "height": 52
        }
      },
      "source": [
        "train['review'][0]"
      ],
      "execution_count": 9,
      "outputs": [
        {
          "output_type": "execute_result",
          "data": {
            "application/vnd.google.colaboratory.intrinsic+json": {
              "type": "string"
            },
            "text/plain": [
              "'039 tried antidepressant year citalopram fluoxetine amitriptyline none helped depression insomnia amp anxiety doctor suggested changed onto 45mg mirtazapine medicine saved life thankfully side effect especially common weight gain 039 actually lost alot weight still suicidal thought mirtazapine saved'"
            ]
          },
          "metadata": {
            "tags": []
          },
          "execution_count": 9
        }
      ]
    },
    {
      "cell_type": "code",
      "metadata": {
        "id": "doOpiekZEmcY",
        "outputId": "674019ae-cce3-449f-81ab-841446eba2de",
        "colab": {
          "base_uri": "https://localhost:8080/"
        }
      },
      "source": [
        "#proportion of positive and negative reviews\n",
        "\n",
        "n_positive=0\n",
        "n_negative=0\n",
        "\n",
        "n_ratings = Counter(train['rating'])\n",
        "for i in n_ratings.keys():\n",
        "  if i >= 7:\n",
        "    n_positive += n_ratings[i]\n",
        "  elif i <= 4:\n",
        "    n_negative += n_ratings[i]\n",
        "\n",
        "n_ratings\n",
        "  "
      ],
      "execution_count": 10,
      "outputs": [
        {
          "output_type": "execute_result",
          "data": {
            "text/plain": [
              "Counter({1: 7299,\n",
              "         2: 2334,\n",
              "         3: 2205,\n",
              "         4: 1659,\n",
              "         7: 3091,\n",
              "         8: 6156,\n",
              "         9: 9177,\n",
              "         10: 17016})"
            ]
          },
          "metadata": {
            "tags": []
          },
          "execution_count": 10
        }
      ]
    },
    {
      "cell_type": "code",
      "metadata": {
        "id": "MieBeacJGxIf",
        "outputId": "9c8c1793-5c85-467b-84f3-75ef58534bac",
        "colab": {
          "base_uri": "https://localhost:8080/",
          "height": 281
        }
      },
      "source": [
        "plt.bar(['Positive', 'Negative'], [n_positive, n_negative])\n",
        "plt.title('Proportion of Positive and Negative Reviews')\n",
        "plt.ylabel('Count')\n",
        "plt.show()"
      ],
      "execution_count": 11,
      "outputs": [
        {
          "output_type": "display_data",
          "data": {
            "image/png": "[encoded data removed]",
            "text/plain": [
              "<Figure size 432x288 with 1 Axes>"
            ]
          },
          "metadata": {
            "tags": [],
            "needs_background": "light"
          }
        }
      ]
    },
    {
      "cell_type": "code",
      "metadata": {
        "id": "XVvIQW4kHQDI"
      },
      "source": [
        "train_labels = []\n",
        "for rating in train['rating']:\n",
        "       if rating >= 7:\n",
        "              train_labels.append(1)\n",
        "       elif rating <= 4:\n",
        "              train_labels.append(-1)\n",
        "       else:\n",
        "              train_labels.append(0)"
      ],
      "execution_count": 12,
      "outputs": []
    },
    {
      "cell_type": "code",
      "metadata": {
        "id": "yBx0ZunmIU7S"
      },
      "source": [
        "test_labels = []\n",
        "for rating in test['rating']:\n",
        "       if rating >= 7 :\n",
        "         test_labels.append(1)\n",
        "       elif rating <= 4:\n",
        "         test_labels.append(-1)\n",
        "       else:\n",
        "         test_labels.append(0)"
      ],
      "execution_count": 13,
      "outputs": []
    },
    {
      "cell_type": "code",
      "metadata": {
        "id": "0vMB1i9kIXyG"
      },
      "source": [
        "train_x = []\n",
        "test_x = []\n",
        "train_x = train['review']\n",
        "test_x = test['review']"
      ],
      "execution_count": 14,
      "outputs": []
    },
    {
      "cell_type": "code",
      "metadata": {
        "id": "0wUZrX0lJTEf"
      },
      "source": [
        "#initializing the count vectorizer\n",
        "cv = CountVectorizer(binary=True)\n",
        "cv.fit(train['review'])\n",
        "train_x = cv.transform(train_x)\n",
        "test_x = cv.transform(test_x)"
      ],
      "execution_count": 15,
      "outputs": []
    },
    {
      "cell_type": "code",
      "metadata": {
        "id": "QN1zVuRlKazl"
      },
      "source": [
        "# XGBoost\n",
        "xgb_train_labels = []\n",
        "for rating in train['rating']:\n",
        "       if rating >= 7:\n",
        "              xgb_train_labels.append(1)\n",
        "       elif rating <= 4:\n",
        "              xgb_train_labels.append(0)\n",
        "       else:\n",
        "              xgb_train_labels.append(None)"
      ],
      "execution_count": 16,
      "outputs": []
    },
    {
      "cell_type": "code",
      "metadata": {
        "id": "F5Xhio3PNHsd"
      },
      "source": [
        "xgb_test_labels = []\n",
        "for rating in test['rating']:\n",
        "       if rating >= 7:\n",
        "              xgb_test_labels.append(1)\n",
        "       elif rating <= 4:\n",
        "              xgb_test_labels.append(0)\n",
        "       else:\n",
        "              xgb_test_labels.append(None)"
      ],
      "execution_count": 17,
      "outputs": []
    },
    {
      "cell_type": "code",
      "metadata": {
        "id": "fCbO7WTWNLvj"
      },
      "source": [
        "xgb_train = xgb.DMatrix(train_x, xgb_train_labels)\n",
        "xgb_test = xgb.DMatrix(test_x, xgb_test_labels)\n",
        "param = {'eta': 0.75,\n",
        "         'max_depth': 10\n",
        "        }"
      ],
      "execution_count": 18,
      "outputs": []
    },
    {
      "cell_type": "code",
      "metadata": {
        "id": "d5kReb0wNRM6"
      },
      "source": [
        "xgb_model = xgb.train(param, xgb_train, num_boost_round=30)\n",
        "y_pred_xgb = xgb_model.predict(xgb_test)\n",
        "y_pred_xgb = np.where(np.array(y_pred_xgb) > 0.5,1,-1)"
      ],
      "execution_count": 19,
      "outputs": []
    },
    {
      "cell_type": "code",
      "metadata": {
        "id": "vnvBn-4YODaD",
        "outputId": "1fa7d7e9-cdca-4a83-9345-b47de0c0d7ea",
        "colab": {
          "base_uri": "https://localhost:8080/"
        }
      },
      "source": [
        "# xgb Evaluation\n",
        "accuracy = accuracy_score(test_labels, y_pred_xgb) \n",
        "print(\"Test accuracy :\",accuracy)\n",
        "score = f1_score(test_labels, y_pred_xgb) \n",
        "print(\"F1 score :\", score)\n",
        "confusion_matrix(test_labels,y_pred_xgb)"
      ],
      "execution_count": 20,
      "outputs": [
        {
          "output_type": "stream",
          "text": [
            "Test accuracy : 0.813101857207995\n",
            "F1 score : 0.8773869212120671\n"
          ],
          "name": "stdout"
        },
        {
          "output_type": "execute_result",
          "data": {
            "text/plain": [
              "array([[21219, 18856],\n",
              "       [ 8607, 98259]])"
            ]
          },
          "metadata": {
            "tags": []
          },
          "execution_count": 20
        }
      ]
    },
    {
      "cell_type": "code",
      "metadata": {
        "id": "5G2mq_C1OOf2",
        "outputId": "76cf0bdb-1394-4cd2-84ae-5b1ea24feb9d",
        "colab": {
          "base_uri": "https://localhost:8080/",
          "height": 366
        }
      },
      "source": [
        "# Exploratory Methods for XGBoost\n",
        "## looking at feature importance\n",
        "xgb_scores = xgb_model.get_score(importance_type = 'weight')\n",
        "xgb_scores = list(xgb_scores.items())\n",
        "xgb_scores.sort(key = lambda x: x[1], reverse = True)\n",
        "x = [i[0] for i in xgb_scores[:20]]\n",
        "y = [i[1] for i in xgb_scores[:20]]\n",
        "# plot\n",
        "plot = sns.barplot(y, x)\n",
        "plot.set_title('Top 20 Most Significant Variables', x = 0.66, weight = 'bold')\n",
        "plot.set_xlabel('No. of times feature is used to split the data across all trees')"
      ],
      "execution_count": 21,
      "outputs": [
        {
          "output_type": "stream",
          "text": [
            "/usr/local/lib/python3.6/dist-packages/seaborn/_decorators.py:43: FutureWarning: Pass the following variables as keyword args: x, y. From version 0.12, the only valid positional argument will be `data`, and passing other arguments without an explicit keyword will result in an error or misinterpretation.\n",
            "  FutureWarning\n"
          ],
          "name": "stderr"
        },
        {
          "output_type": "execute_result",
          "data": {
            "text/plain": [
              "Text(0.5, 0, 'No. of times feature is used to split the data across all trees')"
            ]
          },
          "metadata": {
            "tags": []
          },
          "execution_count": 21
        },
        {
          "output_type": "display_data",
          "data": {
            "image/png": "[encoded data removed]",
            "text/plain": [
              "<Figure size 432x288 with 1 Axes>"
            ]
          },
          "metadata": {
            "tags": [],
            "needs_background": "light"
          }
        }
      ]
    },
    {
      "cell_type": "code",
      "metadata": {
        "id": "6EzeBZ13PMGM",
        "outputId": "11fc7b4e-099e-4cf2-ebea-8794464484af",
        "colab": {
          "base_uri": "https://localhost:8080/",
          "height": 366
        }
      },
      "source": [
        "xgb_scores = xgb_model.get_score(importance_type = 'gain')\n",
        "xgb_scores = list(xgb_scores.items())\n",
        "xgb_scores.sort(key = lambda x: x[1], reverse = True)\n",
        "x = [i[0] for i in xgb_scores[:20]]\n",
        "y = [i[1] for i in xgb_scores[:20]]\n",
        "# plot\n",
        "plot = sns.barplot(y, x)\n",
        "plot.set_title('Top 20 Most Significant Variables', x = 0.66, weight = 'bold')\n",
        "plot.set_xlabel('How effective a feature is when used to split the data across all trees')"
      ],
      "execution_count": 22,
      "outputs": [
        {
          "output_type": "stream",
          "text": [
            "/usr/local/lib/python3.6/dist-packages/seaborn/_decorators.py:43: FutureWarning: Pass the following variables as keyword args: x, y. From version 0.12, the only valid positional argument will be `data`, and passing other arguments without an explicit keyword will result in an error or misinterpretation.\n",
            "  FutureWarning\n"
          ],
          "name": "stderr"
        },
        {
          "output_type": "execute_result",
          "data": {
            "text/plain": [
              "Text(0.5, 0, 'How effective a feature is when used to split the data across all trees')"
            ]
          },
          "metadata": {
            "tags": []
          },
          "execution_count": 22
        },
        {
          "output_type": "display_data",
          "data": {
            "image/png": "[encoded data removed]",
            "text/plain": [
              "<Figure size 432x288 with 1 Axes>"
            ]
          },
          "metadata": {
            "tags": [],
            "needs_background": "light"
          }
        }
      ]
    }
  ]
}